{
 "cells": [
  {
   "attachments": {},
   "cell_type": "markdown",
   "metadata": {},
   "source": [
    "# PROYECTO N°2: MACHINE LEARNING"
   ]
  },
  {
   "attachments": {},
   "cell_type": "markdown",
   "metadata": {},
   "source": [
    "###    DESCRIPCIÓN DEL PROYECTO"
   ]
  },
  {
   "attachments": {},
   "cell_type": "markdown",
   "metadata": {},
   "source": [
    "El presente archivo es el paso a paso para la obtención de un modelo de ML que tenga la capacidad de predecir si la estadía de un paciente en el hospital, será mayor a 8 días o menor o igual a 8 días."
   ]
  },
  {
   "cell_type": "code",
   "execution_count": 1,
   "metadata": {},
   "outputs": [],
   "source": [
    "# Importamos librerías que serán utilizadas\n",
    "import pandas as pd\n",
    "import numpy as np\n",
    "from sklearn.linear_model import LinearRegression\n",
    "from sklearn.metrics import r2_score\n",
    "from sklearn.metrics import mean_squared_error\n",
    "import matplotlib.pyplot as plt\n",
    "import seaborn as sns\n",
    "from sklearn.preprocessing import OneHotEncoder\n",
    "from sklearn.preprocessing import LabelEncoder\n",
    "from sklearn.linear_model import LogisticRegression\n",
    "from sklearn.metrics import accuracy_score,  recall_score\n",
    "from sklearn.model_selection import GridSearchCV\n",
    "from sklearn.model_selection import RandomizedSearchCV\n",
    "from sklearn.preprocessing import StandardScaler\n",
    "from sklearn import svm"
   ]
  },
  {
   "attachments": {},
   "cell_type": "markdown",
   "metadata": {},
   "source": [
    "### FEATURE ENGINEERING:\n",
    "\n",
    "Importamos la data proporcionada y realizamos la exploración (EDA). Verificamos si los valores son categóricos o numéricos"
   ]
  },
  {
   "cell_type": "code",
   "execution_count": 2,
   "metadata": {},
   "outputs": [
    {
     "data": {
      "text/html": [
       "<div>\n",
       "<style scoped>\n",
       "    .dataframe tbody tr th:only-of-type {\n",
       "        vertical-align: middle;\n",
       "    }\n",
       "\n",
       "    .dataframe tbody tr th {\n",
       "        vertical-align: top;\n",
       "    }\n",
       "\n",
       "    .dataframe thead th {\n",
       "        text-align: right;\n",
       "    }\n",
       "</style>\n",
       "<table border=\"1\" class=\"dataframe\">\n",
       "  <thead>\n",
       "    <tr style=\"text-align: right;\">\n",
       "      <th></th>\n",
       "      <th>Available Extra Rooms in Hospital</th>\n",
       "      <th>Department</th>\n",
       "      <th>Ward_Facility_Code</th>\n",
       "      <th>doctor_name</th>\n",
       "      <th>staff_available</th>\n",
       "      <th>patientid</th>\n",
       "      <th>Age</th>\n",
       "      <th>gender</th>\n",
       "      <th>Type of Admission</th>\n",
       "      <th>Severity of Illness</th>\n",
       "      <th>health_conditions</th>\n",
       "      <th>Visitors with Patient</th>\n",
       "      <th>Insurance</th>\n",
       "      <th>Admission_Deposit</th>\n",
       "      <th>Stay (in days)</th>\n",
       "    </tr>\n",
       "  </thead>\n",
       "  <tbody>\n",
       "    <tr>\n",
       "      <th>0</th>\n",
       "      <td>4</td>\n",
       "      <td>gynecology</td>\n",
       "      <td>D</td>\n",
       "      <td>Dr Sophia</td>\n",
       "      <td>0</td>\n",
       "      <td>33070</td>\n",
       "      <td>41-50</td>\n",
       "      <td>Female</td>\n",
       "      <td>Trauma</td>\n",
       "      <td>Extreme</td>\n",
       "      <td>Diabetes</td>\n",
       "      <td>4</td>\n",
       "      <td>Yes</td>\n",
       "      <td>2966.408696</td>\n",
       "      <td>8</td>\n",
       "    </tr>\n",
       "    <tr>\n",
       "      <th>1</th>\n",
       "      <td>4</td>\n",
       "      <td>gynecology</td>\n",
       "      <td>B</td>\n",
       "      <td>Dr Sophia</td>\n",
       "      <td>2</td>\n",
       "      <td>34808</td>\n",
       "      <td>31-40</td>\n",
       "      <td>Female</td>\n",
       "      <td>Trauma</td>\n",
       "      <td>Minor</td>\n",
       "      <td>Heart disease</td>\n",
       "      <td>2</td>\n",
       "      <td>No</td>\n",
       "      <td>3554.835677</td>\n",
       "      <td>9</td>\n",
       "    </tr>\n",
       "    <tr>\n",
       "      <th>2</th>\n",
       "      <td>2</td>\n",
       "      <td>gynecology</td>\n",
       "      <td>B</td>\n",
       "      <td>Dr Sophia</td>\n",
       "      <td>8</td>\n",
       "      <td>44577</td>\n",
       "      <td>21-30</td>\n",
       "      <td>Female</td>\n",
       "      <td>Trauma</td>\n",
       "      <td>Extreme</td>\n",
       "      <td>Diabetes</td>\n",
       "      <td>2</td>\n",
       "      <td>Yes</td>\n",
       "      <td>5624.733654</td>\n",
       "      <td>7</td>\n",
       "    </tr>\n",
       "    <tr>\n",
       "      <th>3</th>\n",
       "      <td>4</td>\n",
       "      <td>gynecology</td>\n",
       "      <td>D</td>\n",
       "      <td>Dr Olivia</td>\n",
       "      <td>7</td>\n",
       "      <td>3695</td>\n",
       "      <td>31-40</td>\n",
       "      <td>Female</td>\n",
       "      <td>Urgent</td>\n",
       "      <td>Moderate</td>\n",
       "      <td>None</td>\n",
       "      <td>4</td>\n",
       "      <td>No</td>\n",
       "      <td>4814.149231</td>\n",
       "      <td>8</td>\n",
       "    </tr>\n",
       "    <tr>\n",
       "      <th>4</th>\n",
       "      <td>2</td>\n",
       "      <td>anesthesia</td>\n",
       "      <td>E</td>\n",
       "      <td>Dr Mark</td>\n",
       "      <td>10</td>\n",
       "      <td>108956</td>\n",
       "      <td>71-80</td>\n",
       "      <td>Male</td>\n",
       "      <td>Trauma</td>\n",
       "      <td>Moderate</td>\n",
       "      <td>Diabetes</td>\n",
       "      <td>2</td>\n",
       "      <td>No</td>\n",
       "      <td>5169.269637</td>\n",
       "      <td>34</td>\n",
       "    </tr>\n",
       "  </tbody>\n",
       "</table>\n",
       "</div>"
      ],
      "text/plain": [
       "   Available Extra Rooms in Hospital  Department Ward_Facility_Code  \\\n",
       "0                                  4  gynecology                  D   \n",
       "1                                  4  gynecology                  B   \n",
       "2                                  2  gynecology                  B   \n",
       "3                                  4  gynecology                  D   \n",
       "4                                  2  anesthesia                  E   \n",
       "\n",
       "  doctor_name  staff_available  patientid    Age  gender Type of Admission  \\\n",
       "0   Dr Sophia                0      33070  41-50  Female            Trauma   \n",
       "1   Dr Sophia                2      34808  31-40  Female            Trauma   \n",
       "2   Dr Sophia                8      44577  21-30  Female            Trauma   \n",
       "3   Dr Olivia                7       3695  31-40  Female            Urgent   \n",
       "4     Dr Mark               10     108956  71-80    Male            Trauma   \n",
       "\n",
       "  Severity of Illness health_conditions  Visitors with Patient Insurance  \\\n",
       "0             Extreme          Diabetes                      4       Yes   \n",
       "1               Minor     Heart disease                      2        No   \n",
       "2             Extreme          Diabetes                      2       Yes   \n",
       "3            Moderate              None                      4        No   \n",
       "4            Moderate          Diabetes                      2        No   \n",
       "\n",
       "   Admission_Deposit  Stay (in days)  \n",
       "0        2966.408696               8  \n",
       "1        3554.835677               9  \n",
       "2        5624.733654               7  \n",
       "3        4814.149231               8  \n",
       "4        5169.269637              34  "
      ]
     },
     "execution_count": 2,
     "metadata": {},
     "output_type": "execute_result"
    }
   ],
   "source": [
    "#Importamos la data para su exploracion\n",
    "datatrain = pd.read_csv('hospitalizaciones_train.csv')\n",
    "datatrain.head()"
   ]
  },
  {
   "attachments": {},
   "cell_type": "markdown",
   "metadata": {},
   "source": [
    "### EDA:\n",
    "Exploramos cada columna"
   ]
  },
  {
   "cell_type": "code",
   "execution_count": 3,
   "metadata": {},
   "outputs": [
    {
     "data": {
      "text/plain": [
       "array([ 4,  2,  7,  3,  5, 10,  6,  1, 21,  8, 11, 13,  9, 14, 24,  0, 12,\n",
       "       20], dtype=int64)"
      ]
     },
     "execution_count": 3,
     "metadata": {},
     "output_type": "execute_result"
    }
   ],
   "source": [
    "# Exploramos cada columna. Empezamos por la columna 1: Available \n",
    "# Extra Rooms in Hospital\n",
    "datatrain.iloc[:,0].unique()"
   ]
  },
  {
   "cell_type": "code",
   "execution_count": 4,
   "metadata": {},
   "outputs": [
    {
     "data": {
      "text/plain": [
       "array(['gynecology', 'anesthesia', 'TB & Chest disease', 'radiotherapy',\n",
       "       'surgery'], dtype=object)"
      ]
     },
     "execution_count": 4,
     "metadata": {},
     "output_type": "execute_result"
    }
   ],
   "source": [
    "# Exploramos valores únicos para la columna 2: Department\n",
    "datatrain.Department.unique()"
   ]
  },
  {
   "cell_type": "code",
   "execution_count": 5,
   "metadata": {},
   "outputs": [
    {
     "data": {
      "text/plain": [
       "array(['D', 'B', 'E', 'F', 'A', 'C'], dtype=object)"
      ]
     },
     "execution_count": 5,
     "metadata": {},
     "output_type": "execute_result"
    }
   ],
   "source": [
    "# Exploramos valores únicos para la columna 3: Ward_Facility_Code, codigo de\n",
    "# habitacion del paciente\n",
    "datatrain.Ward_Facility_Code.unique()"
   ]
  },
  {
   "cell_type": "code",
   "execution_count": 6,
   "metadata": {},
   "outputs": [
    {
     "data": {
      "text/plain": [
       "array(['Dr Sophia', 'Dr Olivia', 'Dr Mark', 'Dr John', 'Dr Sarah',\n",
       "       'Dr Sam', 'Dr Nathan', 'Dr Simon', 'Dr Isaac'], dtype=object)"
      ]
     },
     "execution_count": 6,
     "metadata": {},
     "output_type": "execute_result"
    }
   ],
   "source": [
    "# Exploramos valores únicos para la columna 4: doctor_name\n",
    "datatrain.doctor_name.unique()"
   ]
  },
  {
   "cell_type": "code",
   "execution_count": 7,
   "metadata": {},
   "outputs": [
    {
     "data": {
      "text/plain": [
       "array([ 0,  2,  8,  7, 10,  5,  9,  3,  6,  4,  1], dtype=int64)"
      ]
     },
     "execution_count": 7,
     "metadata": {},
     "output_type": "execute_result"
    }
   ],
   "source": [
    "# Exploramos valores únicos para la columna 5: staff_available\n",
    "datatrain.staff_available.unique()"
   ]
  },
  {
   "cell_type": "code",
   "execution_count": 8,
   "metadata": {},
   "outputs": [
    {
     "data": {
      "text/plain": [
       "44572     18\n",
       "125618    18\n",
       "3635      17\n",
       "126681    17\n",
       "126170    17\n",
       "          ..\n",
       "106383     1\n",
       "61225      1\n",
       "77996      1\n",
       "46153      1\n",
       "63598      1\n",
       "Name: patientid, Length: 122394, dtype: int64"
      ]
     },
     "execution_count": 8,
     "metadata": {},
     "output_type": "execute_result"
    }
   ],
   "source": [
    "# Exploramos valores únicos para la columna 6: patientid\n",
    "datatrain.patientid.value_counts()"
   ]
  },
  {
   "cell_type": "code",
   "execution_count": 9,
   "metadata": {},
   "outputs": [
    {
     "data": {
      "text/plain": [
       "array(['41-50', '31-40', '21-30', '71-80', '11-20', '51-60', '61-70',\n",
       "       '81-90', '91-100', '0-10'], dtype=object)"
      ]
     },
     "execution_count": 9,
     "metadata": {},
     "output_type": "execute_result"
    }
   ],
   "source": [
    "# Exploramos valores únicos para la columna 7: Age\n",
    "datatrain.Age.unique()"
   ]
  },
  {
   "cell_type": "code",
   "execution_count": 10,
   "metadata": {},
   "outputs": [
    {
     "data": {
      "text/plain": [
       "array(['Female', 'Male', 'Other'], dtype=object)"
      ]
     },
     "execution_count": 10,
     "metadata": {},
     "output_type": "execute_result"
    }
   ],
   "source": [
    "# Exploramos valores únicos para la columna 8: gender\n",
    "datatrain.gender.unique()"
   ]
  },
  {
   "cell_type": "code",
   "execution_count": 11,
   "metadata": {},
   "outputs": [
    {
     "data": {
      "text/plain": [
       "array(['Trauma', 'Urgent', 'Emergency'], dtype=object)"
      ]
     },
     "execution_count": 11,
     "metadata": {},
     "output_type": "execute_result"
    }
   ],
   "source": [
    "# Exploramos valores únicos para la columna 9: Type of Admission\n",
    "datatrain.iloc[:,8].unique()"
   ]
  },
  {
   "cell_type": "code",
   "execution_count": 12,
   "metadata": {},
   "outputs": [
    {
     "data": {
      "text/plain": [
       "array(['Extreme', 'Minor', 'Moderate'], dtype=object)"
      ]
     },
     "execution_count": 12,
     "metadata": {},
     "output_type": "execute_result"
    }
   ],
   "source": [
    "# Exploramos valores únicos para la columna 10: Severity of illness\n",
    "datatrain.iloc[:,9].unique()"
   ]
  },
  {
   "cell_type": "code",
   "execution_count": 13,
   "metadata": {},
   "outputs": [
    {
     "data": {
      "text/plain": [
       "array(['Diabetes', 'Heart disease', 'None', 'Other', 'Asthama',\n",
       "       'High Blood Pressure'], dtype=object)"
      ]
     },
     "execution_count": 13,
     "metadata": {},
     "output_type": "execute_result"
    }
   ],
   "source": [
    "# Exploramos valores únicos para la columna 11: health_conditions\n",
    "datatrain.health_conditions.unique()"
   ]
  },
  {
   "cell_type": "code",
   "execution_count": 14,
   "metadata": {},
   "outputs": [
    {
     "name": "stdout",
     "output_type": "stream",
     "text": [
      "<class 'pandas.core.series.Series'>\n",
      "RangeIndex: 410000 entries, 0 to 409999\n",
      "Series name: Visitors with Patient\n",
      "Non-Null Count   Dtype\n",
      "--------------   -----\n",
      "410000 non-null  int64\n",
      "dtypes: int64(1)\n",
      "memory usage: 3.1 MB\n"
     ]
    }
   ],
   "source": [
    "# Exploramos valores únicos para la columna 12: Visitors with patient, cantidad\n",
    "# de visitantes registrados para el paciente\n",
    "datatrain.iloc[:,11].info()"
   ]
  },
  {
   "cell_type": "code",
   "execution_count": 15,
   "metadata": {},
   "outputs": [
    {
     "data": {
      "text/plain": [
       "array(['Yes', 'No'], dtype=object)"
      ]
     },
     "execution_count": 15,
     "metadata": {},
     "output_type": "execute_result"
    }
   ],
   "source": [
    "# Exploramos valores únicos para la columna 13: Insurance, si posee seguro o no\n",
    "datatrain.Insurance.unique()"
   ]
  },
  {
   "cell_type": "code",
   "execution_count": 16,
   "metadata": {},
   "outputs": [
    {
     "name": "stdout",
     "output_type": "stream",
     "text": [
      "<class 'pandas.core.series.Series'>\n",
      "RangeIndex: 410000 entries, 0 to 409999\n",
      "Series name: Admission_Deposit\n",
      "Non-Null Count   Dtype  \n",
      "--------------   -----  \n",
      "410000 non-null  float64\n",
      "dtypes: float64(1)\n",
      "memory usage: 3.1 MB\n"
     ]
    }
   ],
   "source": [
    "# Exploramos valores únicos para la columna 14: Admission_Deposit. Verificaremos la\n",
    "# relevancia del pago inicial realizado\n",
    "datatrain.iloc[:,13].info()"
   ]
  },
  {
   "cell_type": "code",
   "execution_count": 17,
   "metadata": {},
   "outputs": [
    {
     "name": "stdout",
     "output_type": "stream",
     "text": [
      "<class 'pandas.core.series.Series'>\n",
      "RangeIndex: 410000 entries, 0 to 409999\n",
      "Series name: Stay (in days)\n",
      "Non-Null Count   Dtype\n",
      "--------------   -----\n",
      "410000 non-null  int64\n",
      "dtypes: int64(1)\n",
      "memory usage: 3.1 MB\n"
     ]
    }
   ],
   "source": [
    "# Exploramos valores únicos para la columna 15: Stay, estancia hospitalaria\n",
    "datatrain.iloc[:,14].info()"
   ]
  },
  {
   "attachments": {},
   "cell_type": "markdown",
   "metadata": {},
   "source": [
    "## FEATURE ENCODING:\n",
    "\n",
    "Las columnas que poseen datos categóricos, los convertimos a numéricos"
   ]
  },
  {
   "cell_type": "code",
   "execution_count": 18,
   "metadata": {},
   "outputs": [
    {
     "data": {
      "text/html": [
       "<div>\n",
       "<style scoped>\n",
       "    .dataframe tbody tr th:only-of-type {\n",
       "        vertical-align: middle;\n",
       "    }\n",
       "\n",
       "    .dataframe tbody tr th {\n",
       "        vertical-align: top;\n",
       "    }\n",
       "\n",
       "    .dataframe thead th {\n",
       "        text-align: right;\n",
       "    }\n",
       "</style>\n",
       "<table border=\"1\" class=\"dataframe\">\n",
       "  <thead>\n",
       "    <tr style=\"text-align: right;\">\n",
       "      <th></th>\n",
       "      <th>Available Extra Rooms in Hospital</th>\n",
       "      <th>Department</th>\n",
       "      <th>Ward_Facility_Code</th>\n",
       "      <th>doctor_name</th>\n",
       "      <th>staff_available</th>\n",
       "      <th>patientid</th>\n",
       "      <th>Age</th>\n",
       "      <th>gender</th>\n",
       "      <th>Type of Admission</th>\n",
       "      <th>Severity of Illness</th>\n",
       "      <th>health_conditions</th>\n",
       "      <th>Visitors with Patient</th>\n",
       "      <th>Insurance</th>\n",
       "      <th>Admission_Deposit</th>\n",
       "      <th>Stay (in days)</th>\n",
       "      <th>Stay</th>\n",
       "    </tr>\n",
       "  </thead>\n",
       "  <tbody>\n",
       "    <tr>\n",
       "      <th>0</th>\n",
       "      <td>4</td>\n",
       "      <td>gynecology</td>\n",
       "      <td>D</td>\n",
       "      <td>Dr Sophia</td>\n",
       "      <td>0</td>\n",
       "      <td>33070</td>\n",
       "      <td>41-50</td>\n",
       "      <td>Female</td>\n",
       "      <td>Trauma</td>\n",
       "      <td>Extreme</td>\n",
       "      <td>Diabetes</td>\n",
       "      <td>4</td>\n",
       "      <td>Yes</td>\n",
       "      <td>2966.408696</td>\n",
       "      <td>8</td>\n",
       "      <td>0</td>\n",
       "    </tr>\n",
       "    <tr>\n",
       "      <th>1</th>\n",
       "      <td>4</td>\n",
       "      <td>gynecology</td>\n",
       "      <td>B</td>\n",
       "      <td>Dr Sophia</td>\n",
       "      <td>2</td>\n",
       "      <td>34808</td>\n",
       "      <td>31-40</td>\n",
       "      <td>Female</td>\n",
       "      <td>Trauma</td>\n",
       "      <td>Minor</td>\n",
       "      <td>Heart disease</td>\n",
       "      <td>2</td>\n",
       "      <td>No</td>\n",
       "      <td>3554.835677</td>\n",
       "      <td>9</td>\n",
       "      <td>1</td>\n",
       "    </tr>\n",
       "    <tr>\n",
       "      <th>2</th>\n",
       "      <td>2</td>\n",
       "      <td>gynecology</td>\n",
       "      <td>B</td>\n",
       "      <td>Dr Sophia</td>\n",
       "      <td>8</td>\n",
       "      <td>44577</td>\n",
       "      <td>21-30</td>\n",
       "      <td>Female</td>\n",
       "      <td>Trauma</td>\n",
       "      <td>Extreme</td>\n",
       "      <td>Diabetes</td>\n",
       "      <td>2</td>\n",
       "      <td>Yes</td>\n",
       "      <td>5624.733654</td>\n",
       "      <td>7</td>\n",
       "      <td>0</td>\n",
       "    </tr>\n",
       "  </tbody>\n",
       "</table>\n",
       "</div>"
      ],
      "text/plain": [
       "   Available Extra Rooms in Hospital  Department Ward_Facility_Code  \\\n",
       "0                                  4  gynecology                  D   \n",
       "1                                  4  gynecology                  B   \n",
       "2                                  2  gynecology                  B   \n",
       "\n",
       "  doctor_name  staff_available  patientid    Age  gender Type of Admission  \\\n",
       "0   Dr Sophia                0      33070  41-50  Female            Trauma   \n",
       "1   Dr Sophia                2      34808  31-40  Female            Trauma   \n",
       "2   Dr Sophia                8      44577  21-30  Female            Trauma   \n",
       "\n",
       "  Severity of Illness health_conditions  Visitors with Patient Insurance  \\\n",
       "0             Extreme          Diabetes                      4       Yes   \n",
       "1               Minor     Heart disease                      2        No   \n",
       "2             Extreme          Diabetes                      2       Yes   \n",
       "\n",
       "   Admission_Deposit  Stay (in days) Stay  \n",
       "0        2966.408696               8    0  \n",
       "1        3554.835677               9    1  \n",
       "2        5624.733654               7    0  "
      ]
     },
     "execution_count": 18,
     "metadata": {},
     "output_type": "execute_result"
    }
   ],
   "source": [
    "# Convertimos los dias de la columna \"stay\" a 1 para un permanencia mayor a 8 días y 0\n",
    "# para dias menores o igual a 8.\n",
    "bins = [-1,8,100]\n",
    "labels = [0,1]\n",
    "permanencia = pd.cut(datatrain[\"Stay (in days)\"], bins , labels = labels)\n",
    "datatrain[\"Stay\"] = permanencia\n",
    "datatrain.head(3)"
   ]
  },
  {
   "cell_type": "code",
   "execution_count": 19,
   "metadata": {},
   "outputs": [
    {
     "name": "stdout",
     "output_type": "stream",
     "text": [
      "<class 'pandas.core.frame.DataFrame'>\n",
      "RangeIndex: 410000 entries, 0 to 409999\n",
      "Data columns (total 16 columns):\n",
      " #   Column                             Non-Null Count   Dtype   \n",
      "---  ------                             --------------   -----   \n",
      " 0   Available Extra Rooms in Hospital  410000 non-null  int64   \n",
      " 1   Department                         410000 non-null  object  \n",
      " 2   Ward_Facility_Code                 410000 non-null  object  \n",
      " 3   doctor_name                        410000 non-null  object  \n",
      " 4   staff_available                    410000 non-null  int64   \n",
      " 5   patientid                          410000 non-null  int64   \n",
      " 6   Age                                410000 non-null  object  \n",
      " 7   gender                             410000 non-null  object  \n",
      " 8   Type of Admission                  410000 non-null  object  \n",
      " 9   Severity of Illness                410000 non-null  object  \n",
      " 10  health_conditions                  410000 non-null  object  \n",
      " 11  Visitors with Patient              410000 non-null  int64   \n",
      " 12  Insurance                          410000 non-null  object  \n",
      " 13  Admission_Deposit                  410000 non-null  float64 \n",
      " 14  Stay (in days)                     410000 non-null  int64   \n",
      " 15  Stay                               410000 non-null  category\n",
      "dtypes: category(1), float64(1), int64(5), object(9)\n",
      "memory usage: 47.3+ MB\n"
     ]
    }
   ],
   "source": [
    "# Observamos que la columna \"Stay\" de 1s y 0s es tipo categoría, por lo tanto, lo\n",
    "# convertimos a int\n",
    "datatrain.info()"
   ]
  },
  {
   "cell_type": "code",
   "execution_count": 20,
   "metadata": {},
   "outputs": [
    {
     "name": "stdout",
     "output_type": "stream",
     "text": [
      "<class 'pandas.core.series.Series'>\n",
      "RangeIndex: 410000 entries, 0 to 409999\n",
      "Series name: Stay\n",
      "Non-Null Count   Dtype\n",
      "--------------   -----\n",
      "410000 non-null  int64\n",
      "dtypes: int64(1)\n",
      "memory usage: 3.1 MB\n"
     ]
    }
   ],
   "source": [
    "# Verificamos que la columna \"Stay\" es tipo \"int\"\n",
    "datatrain[\"Stay\"]=pd.factorize(datatrain[\"Stay\"])[0]\n",
    "datatrain.Stay.info()"
   ]
  },
  {
   "attachments": {},
   "cell_type": "markdown",
   "metadata": {},
   "source": [
    "COLUMNA 1: Available Extra Rooms in Hospital: Habitaciones adicionales disponibles en el hospital. Una habitación no es igual a un paciente, pueden ser individuales o compartidas."
   ]
  },
  {
   "cell_type": "code",
   "execution_count": 21,
   "metadata": {},
   "outputs": [],
   "source": [
    "# En todo hospital podremos observar habitaciones mejores equipadas que otras, por lo cual, es importante\n",
    "# considerar esta columna, ya que, al momento de ingresar al paciente una gran cantidad de habitaciones disponibles\n",
    "# dará la libertad de seleccionar la habitación más adecuada para el paciente.\n",
    "datatrain[\"Extra_Room\"]=datatrain[\"Available Extra Rooms in Hospital\"]"
   ]
  },
  {
   "attachments": {},
   "cell_type": "markdown",
   "metadata": {},
   "source": [
    "COLUMNA 2: Department: Área de atención a la que ingresa el paciente."
   ]
  },
  {
   "cell_type": "code",
   "execution_count": 22,
   "metadata": {},
   "outputs": [
    {
     "name": "stdout",
     "output_type": "stream",
     "text": [
      "[array(['TB & Chest disease', 'anesthesia', 'gynecology', 'radiotherapy',\n",
      "       'surgery'], dtype=object)]\n"
     ]
    }
   ],
   "source": [
    "# Se realiza OneHotEncoder para la colummna \"Department\", es importante tener \n",
    "# mapeado el departamento al cual ingresa el paciente.\n",
    "\n",
    "enc = OneHotEncoder(sparse=False)\n",
    "departamentos=datatrain[\"Department\"].values.reshape(-1,1)\n",
    "enc.fit(departamentos)\n",
    "enc2=enc.transform(departamentos)\n",
    "print(enc.categories_)\n",
    "datatrain[\"Department_TB & Chest disease\"]=enc2[:,0]\n",
    "datatrain[\"Department_anesthesia\"]=enc2[:,1]\n",
    "datatrain[\"Department_gynecology\"]=enc2[:,2]\n",
    "datatrain[\"Department_radiotherapy\"]=enc2[:,3]\n",
    "datatrain[\"Department_surgery\"]=enc2[:,4]\n"
   ]
  },
  {
   "attachments": {},
   "cell_type": "markdown",
   "metadata": {},
   "source": [
    "COLUMNA 3: Ward_Facility_Code: Código de la habitación del paciente."
   ]
  },
  {
   "cell_type": "code",
   "execution_count": 23,
   "metadata": {},
   "outputs": [],
   "source": [
    "# La habitación en la cual se encuentra el paciente puede tener repercusiones\n",
    "# en  su pronta recuperación. No es lo mismo, encontrarse en una habitación con baja\n",
    "# iluminación que una con mayor iluminación y con mejor vista.\n",
    "hab_enc = LabelEncoder().fit(datatrain['Ward_Facility_Code'])\n",
    "datatrain[\"Cod_Hab\"] = hab_enc.transform(datatrain['Ward_Facility_Code'])"
   ]
  },
  {
   "attachments": {},
   "cell_type": "markdown",
   "metadata": {},
   "source": [
    "COLUMNA 4: doctor_name: Nombre de el/la doctor/a a cargo del paciente."
   ]
  },
  {
   "cell_type": "code",
   "execution_count": 24,
   "metadata": {},
   "outputs": [
    {
     "name": "stdout",
     "output_type": "stream",
     "text": [
      "[array(['Dr Isaac', 'Dr John', 'Dr Mark', 'Dr Nathan', 'Dr Olivia',\n",
      "       'Dr Sam', 'Dr Sarah', 'Dr Simon', 'Dr Sophia'], dtype=object)]\n"
     ]
    }
   ],
   "source": [
    "# Considero que, la experiencia de cada médico es un factor muy \n",
    "# importante a la hora de emitir diagnósticos y tratamientos \n",
    "# más acertados para cada paciente en este hospital.\n",
    "# Por lo tanto, se realiza OneHotEncoder para obtener valores númericos.\n",
    "\n",
    "enc = OneHotEncoder(sparse=False)\n",
    "doctor=datatrain[\"doctor_name\"].values.reshape(-1,1)\n",
    "enc.fit(doctor)\n",
    "enc2=enc.transform(doctor)\n",
    "print(enc.categories_)\n",
    "datatrain[\"Dr Isaac\"]=enc2[:,0]\n",
    "datatrain[\"Dr John\"]=enc2[:,1]\n",
    "datatrain[\"Dr Mark\"]=enc2[:,2]\n",
    "datatrain[\"Dr Nathan\"]=enc2[:,3]\n",
    "datatrain[\"Dr Olivia\"]=enc2[:,4]\n",
    "datatrain[\"Dr Sam\"]=enc2[:,5]\n",
    "datatrain[\"Dr Sarah\"]=enc2[:,6]\n",
    "datatrain[\"Dr Simon\"]=enc2[:,7]\n",
    "datatrain[\"Dr Sophia\"]=enc2[:,8]\n"
   ]
  },
  {
   "attachments": {},
   "cell_type": "markdown",
   "metadata": {},
   "source": [
    "COLUMNA 5: staff_available: Cantidad de personal disponible al momento del ingreso del paciente."
   ]
  },
  {
   "cell_type": "code",
   "execution_count": 25,
   "metadata": {},
   "outputs": [],
   "source": [
    "# Considero que, es importante la rapidez con la que un\n",
    "# paciente es atendido al momento de ingresar al hospital. Por esta\n",
    "# razón hacemos un label para cuando no hay personal(0) y para\n",
    "# cuando si hay personal (1) \n",
    "\n",
    "bins=[-1,0,10]\n",
    "labels=[0,1]\n",
    "staff=pd.cut(datatrain[\"staff_available\"],bins, labels = labels)\n",
    "datatrain[\"Staff\"]=staff\n",
    "datatrain[\"Staff\"]=pd.factorize(datatrain['Staff'])[0]"
   ]
  },
  {
   "attachments": {},
   "cell_type": "markdown",
   "metadata": {},
   "source": [
    "COLUMNA 6: patientid: Identificador del paciente."
   ]
  },
  {
   "cell_type": "code",
   "execution_count": 26,
   "metadata": {},
   "outputs": [],
   "source": [
    "# Se ha observado que hay pacientes que regresan más de 1 vez al hospital, por lo tanto, vamos a considerar\n",
    "# esta columna.\n",
    "datatrain[\"id\"]=datatrain[\"patientid\"]"
   ]
  },
  {
   "attachments": {},
   "cell_type": "markdown",
   "metadata": {},
   "source": [
    "COLUMNA 7: Age: Edad del paciente."
   ]
  },
  {
   "cell_type": "code",
   "execution_count": 27,
   "metadata": {},
   "outputs": [],
   "source": [
    "# Es un parámetro muy relevante, ya que, las personas jóvenes se \n",
    "# recuperan más rápido que los adultos y adultos mayores\n",
    "\n",
    "age_enc = LabelEncoder().fit(datatrain['Age'])\n",
    "datatrain[\"Label_age\"] = age_enc.transform(datatrain['Age'])\n"
   ]
  },
  {
   "attachments": {},
   "cell_type": "markdown",
   "metadata": {},
   "source": [
    "COLUMNA 8: gender: Género del paciente."
   ]
  },
  {
   "cell_type": "code",
   "execution_count": 28,
   "metadata": {},
   "outputs": [
    {
     "name": "stdout",
     "output_type": "stream",
     "text": [
      "[array(['Female', 'Male', 'Other'], dtype=object)]\n"
     ]
    }
   ],
   "source": [
    "# El género biológico es importante, ya que, existen diferencias\n",
    "# a nivel molecular que tienen significancia en la recuperación.\n",
    "\n",
    "enc = OneHotEncoder(sparse=False)\n",
    "genero=datatrain[\"gender\"].values.reshape(-1,1)\n",
    "enc.fit(genero)\n",
    "enc2=enc.transform(genero)\n",
    "print(enc.categories_)\n",
    "datatrain[\"Female_encoded\"]=enc2[:,0]\n",
    "datatrain[\"Male_encoded\"]=enc2[:,1]\n",
    "datatrain[\"Other_encoded\"]=enc2[:,2]\n"
   ]
  },
  {
   "attachments": {},
   "cell_type": "markdown",
   "metadata": {},
   "source": [
    "COLUMNA 9: Type of Admission: Tipo de ingreso registrado según la situación de ingreso del paciente."
   ]
  },
  {
   "cell_type": "code",
   "execution_count": 29,
   "metadata": {},
   "outputs": [
    {
     "name": "stdout",
     "output_type": "stream",
     "text": [
      "[array(['Emergency', 'Trauma', 'Urgent'], dtype=object)]\n"
     ]
    }
   ],
   "source": [
    "# La situación del paciente ingresado es un factor\n",
    "# determinante en su tiempo de recuperación, y en consecuencia, \n",
    "# con el tiempo de permanencia.\n",
    "\n",
    "enc = OneHotEncoder(sparse=False)\n",
    "admision=datatrain[\"Type of Admission\"].values.reshape(-1,1)\n",
    "enc.fit(admision)\n",
    "enc2=enc.transform(admision)\n",
    "print(enc.categories_)\n",
    "datatrain[\"Emergency\"]=enc2[:,0]\n",
    "datatrain[\"Trauma\"]=enc2[:,1]\n",
    "datatrain[\"Urgente\"]=enc2[:,2]  "
   ]
  },
  {
   "attachments": {},
   "cell_type": "markdown",
   "metadata": {},
   "source": [
    "COLUMNA 10: Severity of Illness: Gravedad de la enfermedad/condición/estado del paciente al momento del ingreso."
   ]
  },
  {
   "cell_type": "code",
   "execution_count": 30,
   "metadata": {},
   "outputs": [
    {
     "name": "stdout",
     "output_type": "stream",
     "text": [
      "[array(['Extreme', 'Minor', 'Moderate'], dtype=object)]\n"
     ]
    }
   ],
   "source": [
    "# La gravedad de la situacion del paciente ingresado es un factor\n",
    "# determinante en su tiempo de recuperación, y en consecuencia, \n",
    "# en el tiempo de permanencia.\n",
    "enc = OneHotEncoder(sparse=False)\n",
    "severidad=datatrain[\"Severity of Illness\"].values.reshape(-1,1)\n",
    "enc.fit(severidad)\n",
    "enc2=enc.transform(severidad)\n",
    "print(enc.categories_)\n",
    "datatrain[\"Extreme\"]=enc2[:,0]\n",
    "datatrain[\"Minor\"]=enc2[:,1]\n",
    "datatrain[\"Moderate\"]=enc2[:,2]"
   ]
  },
  {
   "attachments": {},
   "cell_type": "markdown",
   "metadata": {},
   "source": [
    "COLUMNA 11: health_conditions: Condiciones de salud del paciente."
   ]
  },
  {
   "cell_type": "code",
   "execution_count": 31,
   "metadata": {},
   "outputs": [
    {
     "name": "stdout",
     "output_type": "stream",
     "text": [
      "[array(['Asthama', 'Diabetes', 'Heart disease', 'High Blood Pressure',\n",
      "       'None', 'Other'], dtype=object)]\n"
     ]
    }
   ],
   "source": [
    "# Enfermedades como la diabetes ralentizan la recuperación normal de las personas,\n",
    "# por lo cual, se considera la condiciones de salud.\n",
    "enc = OneHotEncoder(sparse=False)\n",
    "condicion=datatrain[\"health_conditions\"].values.reshape(-1,1)\n",
    "enc.fit(condicion)\n",
    "enc2=enc.transform(condicion)\n",
    "print(enc.categories_)\n",
    "datatrain[\"Asthama\"]=enc2[:,0]\n",
    "datatrain[\"Diabetes\"]=enc2[:,1]\n",
    "datatrain[\"Heart disease\"]=enc2[:,2]\n",
    "datatrain[\"High Blood Pressure\"]=enc2[:,3]\n",
    "datatrain[\"None\"]=enc2[:,4]\n",
    "datatrain[\"Other\"]=enc2[:,5]\n"
   ]
  },
  {
   "attachments": {},
   "cell_type": "markdown",
   "metadata": {},
   "source": [
    "COLUMMNA 12: Visitors with Patient: Cantidad de visitantes registrados para el paciente."
   ]
  },
  {
   "cell_type": "code",
   "execution_count": 32,
   "metadata": {},
   "outputs": [],
   "source": [
    "# Considero que, las visitas por parte de familiares puede generar un sentimiento\n",
    "# reconfortante y así evitar el sentir de abandono y soledad.\n",
    "\n",
    "# La cantidad de visitas puede ser un factor importante en la \n",
    "# pronta recuperación del paciente\n",
    "datatrain[\"Visitas\"]=datatrain[\"Visitors with Patient\"]"
   ]
  },
  {
   "attachments": {},
   "cell_type": "markdown",
   "metadata": {},
   "source": [
    "COLUMMNA 13: Insurance: Indica si la persona posee o no seguro de salud."
   ]
  },
  {
   "cell_type": "code",
   "execution_count": 33,
   "metadata": {},
   "outputs": [],
   "source": [
    "# Convertimos a 1s y 0s según exista seguro o no. Estar asegurado, puede ayudar a solventar gastos imprevistos de manera más rápida\n",
    "\n",
    "age_enc = LabelEncoder().fit(datatrain['Insurance'])\n",
    "datatrain[\"Seguro\"] = age_enc.transform(datatrain['Insurance'])"
   ]
  },
  {
   "attachments": {},
   "cell_type": "markdown",
   "metadata": {},
   "source": [
    "COLUMNA 14: Admission_Deposit: Pago realizado a nombre del paciente, con el fin de cubrir los costos iniciales de internación."
   ]
  },
  {
   "cell_type": "code",
   "execution_count": 34,
   "metadata": {},
   "outputs": [],
   "source": [
    "# Financiamiento importante para paliar los gastos por algun imprevisto o necesidad.\n",
    "datatrain[\"Depos\"]=datatrain[\"Admission_Deposit\"]"
   ]
  },
  {
   "attachments": {},
   "cell_type": "markdown",
   "metadata": {},
   "source": [
    "SE ELIMINAN COLUMNAS QUE NO USAREMOS\n",
    "- Mostrar columnas: pd.options.display.max_columns = None"
   ]
  },
  {
   "cell_type": "code",
   "execution_count": 35,
   "metadata": {},
   "outputs": [],
   "source": [
    "# Eliminamos columnas cambiadas\n",
    "data_total=datatrain.drop(columns=list(datatrain.columns)[0:15])"
   ]
  },
  {
   "cell_type": "code",
   "execution_count": 36,
   "metadata": {},
   "outputs": [],
   "source": [
    "# Generamos la datax sin la columna \"Stay\"\n",
    "data_x=data_total.drop(columns=[\"Stay\"])\n"
   ]
  },
  {
   "cell_type": "code",
   "execution_count": 37,
   "metadata": {},
   "outputs": [],
   "source": [
    "# Generamos la datay\n",
    "data_y=data_total[\"Stay\"]"
   ]
  },
  {
   "cell_type": "code",
   "execution_count": 38,
   "metadata": {},
   "outputs": [
    {
     "data": {
      "image/png": "[encoded data removed]",
      "text/plain": [
       "<Figure size 432x288 with 2 Axes>"
      ]
     },
     "metadata": {
      "needs_background": "light"
     },
     "output_type": "display_data"
    }
   ],
   "source": [
    "# Generamos un heatmap para verificar las correlaciones\n",
    "corr = data_total.corr()\n",
    "sns.set(rc = {'figure.figsize':(40,40)})\n",
    "sns.heatmap(corr, \n",
    "        xticklabels=corr.columns,\n",
    "        yticklabels=corr.columns,\n",
    "        annot=True);"
   ]
  },
  {
   "attachments": {},
   "cell_type": "markdown",
   "metadata": {},
   "source": [
    "## REPETIMOS EL PROCESO CON LA DATA_TEST:\n",
    "\n",
    "Realizamos los mismos pasos que para la datatrain"
   ]
  },
  {
   "cell_type": "code",
   "execution_count": 39,
   "metadata": {},
   "outputs": [],
   "source": [
    "data_test = pd.read_csv('hospitalizaciones_test.csv')"
   ]
  },
  {
   "cell_type": "code",
   "execution_count": 40,
   "metadata": {},
   "outputs": [],
   "source": [
    "data_test[\"Extra_Room\"]=data_test[\"Available Extra Rooms in Hospital\"]"
   ]
  },
  {
   "cell_type": "code",
   "execution_count": 41,
   "metadata": {},
   "outputs": [
    {
     "name": "stdout",
     "output_type": "stream",
     "text": [
      "[array(['TB & Chest disease', 'anesthesia', 'gynecology', 'radiotherapy',\n",
      "       'surgery'], dtype=object)]\n"
     ]
    }
   ],
   "source": [
    "enc = OneHotEncoder(sparse=False)\n",
    "departamentos=data_test[\"Department\"].values.reshape(-1,1)\n",
    "enc.fit(departamentos)\n",
    "enc2=enc.transform(departamentos)\n",
    "print(enc.categories_)\n",
    "data_test[\"Department_TB & Chest disease\"]=enc2[:,0]\n",
    "data_test[\"Department_anesthesia\"]=enc2[:,1]\n",
    "data_test[\"Department_gynecology\"]=enc2[:,2]\n",
    "data_test[\"Department_radiotherapy\"]=enc2[:,3]\n",
    "data_test[\"Department_surgery\"]=enc2[:,4]"
   ]
  },
  {
   "cell_type": "code",
   "execution_count": 42,
   "metadata": {},
   "outputs": [],
   "source": [
    "hab_enc = LabelEncoder().fit(data_test['Ward_Facility_Code'])\n",
    "data_test[\"Cod_Hab\"] = hab_enc.transform(data_test['Ward_Facility_Code'])"
   ]
  },
  {
   "cell_type": "code",
   "execution_count": 43,
   "metadata": {},
   "outputs": [
    {
     "name": "stdout",
     "output_type": "stream",
     "text": [
      "[array(['Dr Isaac', 'Dr John', 'Dr Mark', 'Dr Nathan', 'Dr Olivia',\n",
      "       'Dr Sam', 'Dr Sarah', 'Dr Simon', 'Dr Sophia'], dtype=object)]\n"
     ]
    }
   ],
   "source": [
    "enc = OneHotEncoder(sparse=False)\n",
    "doctor=data_test[\"doctor_name\"].values.reshape(-1,1)\n",
    "enc.fit(doctor)\n",
    "enc2=enc.transform(doctor)\n",
    "print(enc.categories_)\n",
    "data_test[\"Dr Isaac\"]=enc2[:,0]\n",
    "data_test[\"Dr John\"]=enc2[:,1]\n",
    "data_test[\"Dr Mark\"]=enc2[:,2]\n",
    "data_test[\"Dr Nathan\"]=enc2[:,3]\n",
    "data_test[\"Dr Olivia\"]=enc2[:,4]\n",
    "data_test[\"Dr Sam\"]=enc2[:,5]\n",
    "data_test[\"Dr Sarah\"]=enc2[:,6]\n",
    "data_test[\"Dr Simon\"]=enc2[:,7]\n",
    "data_test[\"Dr Sophia\"]=enc2[:,8]"
   ]
  },
  {
   "cell_type": "code",
   "execution_count": 44,
   "metadata": {},
   "outputs": [],
   "source": [
    "bins=[-1,0,10]\n",
    "labels=[0,1]\n",
    "staff=pd.cut(data_test[\"staff_available\"],bins, labels = labels)\n",
    "data_test[\"Staff\"]=staff\n",
    "data_test[\"Staff\"]=pd.factorize(data_test['Staff'])[0]"
   ]
  },
  {
   "cell_type": "code",
   "execution_count": 45,
   "metadata": {},
   "outputs": [],
   "source": [
    "data_test[\"id\"]=data_test[\"patientid\"]"
   ]
  },
  {
   "cell_type": "code",
   "execution_count": 46,
   "metadata": {},
   "outputs": [],
   "source": [
    "age_enc = LabelEncoder().fit(data_test['Age'])\n",
    "data_test[\"Label_age\"] = age_enc.transform(data_test['Age'])"
   ]
  },
  {
   "cell_type": "code",
   "execution_count": 47,
   "metadata": {},
   "outputs": [
    {
     "name": "stdout",
     "output_type": "stream",
     "text": [
      "[array(['Female', 'Male', 'Other'], dtype=object)]\n"
     ]
    }
   ],
   "source": [
    "enc = OneHotEncoder(sparse=False)\n",
    "genero=data_test[\"gender\"].values.reshape(-1,1)\n",
    "enc.fit(genero)\n",
    "enc2=enc.transform(genero)\n",
    "print(enc.categories_)\n",
    "data_test[\"Female_encoded\"]=enc2[:,0]\n",
    "data_test[\"Male_encoded\"]=enc2[:,1]\n",
    "data_test[\"Other_encoded\"]=enc2[:,2]"
   ]
  },
  {
   "cell_type": "code",
   "execution_count": 48,
   "metadata": {},
   "outputs": [
    {
     "name": "stdout",
     "output_type": "stream",
     "text": [
      "[array(['Emergency', 'Trauma', 'Urgent'], dtype=object)]\n"
     ]
    }
   ],
   "source": [
    "enc = OneHotEncoder(sparse=False)\n",
    "admision=data_test[\"Type of Admission\"].values.reshape(-1,1)\n",
    "enc.fit(admision)\n",
    "enc2=enc.transform(admision)\n",
    "print(enc.categories_)\n",
    "data_test[\"Emergency\"]=enc2[:,0]\n",
    "data_test[\"Trauma\"]=enc2[:,1]\n",
    "data_test[\"Urgente\"]=enc2[:,2]"
   ]
  },
  {
   "cell_type": "code",
   "execution_count": 49,
   "metadata": {},
   "outputs": [
    {
     "name": "stdout",
     "output_type": "stream",
     "text": [
      "[array(['Extreme', 'Minor', 'Moderate'], dtype=object)]\n"
     ]
    }
   ],
   "source": [
    "enc = OneHotEncoder(sparse=False)\n",
    "severidad=data_test[\"Severity of Illness\"].values.reshape(-1,1)\n",
    "enc.fit(severidad)\n",
    "enc2=enc.transform(severidad)\n",
    "print(enc.categories_)\n",
    "data_test[\"Extreme\"]=enc2[:,0]\n",
    "data_test[\"Minor\"]=enc2[:,1]\n",
    "data_test[\"Moderate\"]=enc2[:,2]"
   ]
  },
  {
   "cell_type": "code",
   "execution_count": 50,
   "metadata": {},
   "outputs": [
    {
     "name": "stdout",
     "output_type": "stream",
     "text": [
      "[array(['Asthama', 'Diabetes', 'Heart disease', 'High Blood Pressure',\n",
      "       'None', 'Other'], dtype=object)]\n"
     ]
    }
   ],
   "source": [
    "enc = OneHotEncoder(sparse=False)\n",
    "condicion=data_test[\"health_conditions\"].values.reshape(-1,1)\n",
    "enc.fit(condicion)\n",
    "enc2=enc.transform(condicion)\n",
    "print(enc.categories_)\n",
    "data_test[\"Asthama\"]=enc2[:,0]\n",
    "data_test[\"Diabetes\"]=enc2[:,1]\n",
    "data_test[\"Heart disease\"]=enc2[:,2]\n",
    "data_test[\"High Blood Pressure\"]=enc2[:,3]\n",
    "data_test[\"None\"]=enc2[:,4]\n",
    "data_test[\"Other\"]=enc2[:,5]"
   ]
  },
  {
   "cell_type": "code",
   "execution_count": 51,
   "metadata": {},
   "outputs": [],
   "source": [
    "data_test[\"Visitas\"]=data_test[\"Visitors with Patient\"]"
   ]
  },
  {
   "cell_type": "code",
   "execution_count": 52,
   "metadata": {},
   "outputs": [],
   "source": [
    "age_enc = LabelEncoder().fit(data_test['Insurance'])\n",
    "data_test[\"Seguro\"] = age_enc.transform(data_test['Insurance'])"
   ]
  },
  {
   "cell_type": "code",
   "execution_count": 53,
   "metadata": {},
   "outputs": [],
   "source": [
    "data_test[\"Depos\"]=data_test[\"Admission_Deposit\"]"
   ]
  },
  {
   "attachments": {},
   "cell_type": "markdown",
   "metadata": {},
   "source": [
    "ELIMINAMOS COLUMNAS SIN USO"
   ]
  },
  {
   "cell_type": "code",
   "execution_count": 54,
   "metadata": {},
   "outputs": [],
   "source": [
    "data_totalT=data_test.drop(columns=list(data_test.columns)[0:14])"
   ]
  },
  {
   "attachments": {},
   "cell_type": "markdown",
   "metadata": {},
   "source": [
    "## ENTRENAMIENTO Y MODELADO DE LA DATA:\n",
    "\n",
    "Seleccionamos un 70% de la data para generar nuestra muestra de entrenamiento"
   ]
  },
  {
   "cell_type": "code",
   "execution_count": 55,
   "metadata": {},
   "outputs": [],
   "source": [
    "from sklearn.model_selection import train_test_split\n",
    "# Dejamos 30% de data para entrenamiento\n",
    "x_train, x_test, y_train, y_test = train_test_split(data_x, data_y, test_size=0.30, random_state=42)"
   ]
  },
  {
   "attachments": {},
   "cell_type": "markdown",
   "metadata": {},
   "source": [
    "### 1. REGRESIÓN LOGÍSTICA"
   ]
  },
  {
   "cell_type": "code",
   "execution_count": 56,
   "metadata": {},
   "outputs": [
    {
     "data": {
      "text/html": [
       "<style>#sk-container-id-1 {color: black;background-color: white;}#sk-container-id-1 pre{padding: 0;}#sk-container-id-1 div.sk-toggleable {background-color: white;}#sk-container-id-1 label.sk-toggleable__label {cursor: pointer;display: block;width: 100%;margin-bottom: 0;padding: 0.3em;box-sizing: border-box;text-align: center;}#sk-container-id-1 label.sk-toggleable__label-arrow:before {content: \"▸\";float: left;margin-right: 0.25em;color: #696969;}#sk-container-id-1 label.sk-toggleable__label-arrow:hover:before {color: black;}#sk-container-id-1 div.sk-estimator:hover label.sk-toggleable__label-arrow:before {color: black;}#sk-container-id-1 div.sk-toggleable__content {max-height: 0;max-width: 0;overflow: hidden;text-align: left;background-color: #f0f8ff;}#sk-container-id-1 div.sk-toggleable__content pre {margin: 0.2em;color: black;border-radius: 0.25em;background-color: #f0f8ff;}#sk-container-id-1 input.sk-toggleable__control:checked~div.sk-toggleable__content {max-height: 200px;max-width: 100%;overflow: auto;}#sk-container-id-1 input.sk-toggleable__control:checked~label.sk-toggleable__label-arrow:before {content: \"▾\";}#sk-container-id-1 div.sk-estimator input.sk-toggleable__control:checked~label.sk-toggleable__label {background-color: #d4ebff;}#sk-container-id-1 div.sk-label input.sk-toggleable__control:checked~label.sk-toggleable__label {background-color: #d4ebff;}#sk-container-id-1 input.sk-hidden--visually {border: 0;clip: rect(1px 1px 1px 1px);clip: rect(1px, 1px, 1px, 1px);height: 1px;margin: -1px;overflow: hidden;padding: 0;position: absolute;width: 1px;}#sk-container-id-1 div.sk-estimator {font-family: monospace;background-color: #f0f8ff;border: 1px dotted black;border-radius: 0.25em;box-sizing: border-box;margin-bottom: 0.5em;}#sk-container-id-1 div.sk-estimator:hover {background-color: #d4ebff;}#sk-container-id-1 div.sk-parallel-item::after {content: \"\";width: 100%;border-bottom: 1px solid gray;flex-grow: 1;}#sk-container-id-1 div.sk-label:hover label.sk-toggleable__label {background-color: #d4ebff;}#sk-container-id-1 div.sk-serial::before {content: \"\";position: absolute;border-left: 1px solid gray;box-sizing: border-box;top: 0;bottom: 0;left: 50%;z-index: 0;}#sk-container-id-1 div.sk-serial {display: flex;flex-direction: column;align-items: center;background-color: white;padding-right: 0.2em;padding-left: 0.2em;position: relative;}#sk-container-id-1 div.sk-item {position: relative;z-index: 1;}#sk-container-id-1 div.sk-parallel {display: flex;align-items: stretch;justify-content: center;background-color: white;position: relative;}#sk-container-id-1 div.sk-item::before, #sk-container-id-1 div.sk-parallel-item::before {content: \"\";position: absolute;border-left: 1px solid gray;box-sizing: border-box;top: 0;bottom: 0;left: 50%;z-index: -1;}#sk-container-id-1 div.sk-parallel-item {display: flex;flex-direction: column;z-index: 1;position: relative;background-color: white;}#sk-container-id-1 div.sk-parallel-item:first-child::after {align-self: flex-end;width: 50%;}#sk-container-id-1 div.sk-parallel-item:last-child::after {align-self: flex-start;width: 50%;}#sk-container-id-1 div.sk-parallel-item:only-child::after {width: 0;}#sk-container-id-1 div.sk-dashed-wrapped {border: 1px dashed gray;margin: 0 0.4em 0.5em 0.4em;box-sizing: border-box;padding-bottom: 0.4em;background-color: white;}#sk-container-id-1 div.sk-label label {font-family: monospace;font-weight: bold;display: inline-block;line-height: 1.2em;}#sk-container-id-1 div.sk-label-container {text-align: center;}#sk-container-id-1 div.sk-container {/* jupyter's `normalize.less` sets `[hidden] { display: none; }` but bootstrap.min.css set `[hidden] { display: none !important; }` so we also need the `!important` here to be able to override the default hidden behavior on the sphinx rendered scikit-learn.org. See: https://github.com/scikit-learn/scikit-learn/issues/21755 */display: inline-block !important;position: relative;}#sk-container-id-1 div.sk-text-repr-fallback {display: none;}</style><div id=\"sk-container-id-1\" class=\"sk-top-container\"><div class=\"sk-text-repr-fallback\"><pre>LogisticRegression()</pre><b>In a Jupyter environment, please rerun this cell to show the HTML representation or trust the notebook. <br />On GitHub, the HTML representation is unable to render, please try loading this page with nbviewer.org.</b></div><div class=\"sk-container\" hidden><div class=\"sk-item\"><div class=\"sk-estimator sk-toggleable\"><input class=\"sk-toggleable__control sk-hidden--visually\" id=\"sk-estimator-id-1\" type=\"checkbox\" checked><label for=\"sk-estimator-id-1\" class=\"sk-toggleable__label sk-toggleable__label-arrow\">LogisticRegression</label><div class=\"sk-toggleable__content\"><pre>LogisticRegression()</pre></div></div></div></div></div>"
      ],
      "text/plain": [
       "LogisticRegression()"
      ]
     },
     "execution_count": 56,
     "metadata": {},
     "output_type": "execute_result"
    }
   ],
   "source": [
    "# Importamos la clase que contiene el algoritmo de regresíon logística\n",
    "\n",
    "from sklearn.linear_model import LogisticRegression\n",
    "\n",
    "# Instanciamos el modelo y lo entrenamos\n",
    "\n",
    "clf1 = LogisticRegression()\n",
    "\n",
    "# Lo entrenamos\n",
    "\n",
    "clf1.fit(x_train,y_train)"
   ]
  },
  {
   "cell_type": "code",
   "execution_count": 57,
   "metadata": {},
   "outputs": [
    {
     "name": "stdout",
     "output_type": "stream",
     "text": [
      "Accuracy del modelo es: 0.6223008130081301\n",
      "Recall del modelo es: 1.0\n"
     ]
    }
   ],
   "source": [
    "from sklearn.metrics import accuracy_score \n",
    "\n",
    "# Predecimos\n",
    "\n",
    "y_pred1 = clf1.predict(x_test)\n",
    "\n",
    "# Evaluamos\n",
    "\n",
    "print('Accuracy del modelo es:', accuracy_score(y_test, y_pred1))\n",
    "print('Recall del modelo es:', recall_score(y_test, y_pred1))"
   ]
  },
  {
   "attachments": {},
   "cell_type": "markdown",
   "metadata": {},
   "source": [
    "### 2. VECINOS MÁS CERCANOS"
   ]
  },
  {
   "cell_type": "code",
   "execution_count": 58,
   "metadata": {},
   "outputs": [],
   "source": [
    "from sklearn.neighbors import KNeighborsClassifier\n",
    "\n",
    "# Instanciamos un objeto de la clase KNeighborsClassifier\n",
    "\n",
    "clf2 = KNeighborsClassifier()"
   ]
  },
  {
   "cell_type": "code",
   "execution_count": 59,
   "metadata": {},
   "outputs": [
    {
     "data": {
      "text/html": [
       "<style>#sk-container-id-2 {color: black;background-color: white;}#sk-container-id-2 pre{padding: 0;}#sk-container-id-2 div.sk-toggleable {background-color: white;}#sk-container-id-2 label.sk-toggleable__label {cursor: pointer;display: block;width: 100%;margin-bottom: 0;padding: 0.3em;box-sizing: border-box;text-align: center;}#sk-container-id-2 label.sk-toggleable__label-arrow:before {content: \"▸\";float: left;margin-right: 0.25em;color: #696969;}#sk-container-id-2 label.sk-toggleable__label-arrow:hover:before {color: black;}#sk-container-id-2 div.sk-estimator:hover label.sk-toggleable__label-arrow:before {color: black;}#sk-container-id-2 div.sk-toggleable__content {max-height: 0;max-width: 0;overflow: hidden;text-align: left;background-color: #f0f8ff;}#sk-container-id-2 div.sk-toggleable__content pre {margin: 0.2em;color: black;border-radius: 0.25em;background-color: #f0f8ff;}#sk-container-id-2 input.sk-toggleable__control:checked~div.sk-toggleable__content {max-height: 200px;max-width: 100%;overflow: auto;}#sk-container-id-2 input.sk-toggleable__control:checked~label.sk-toggleable__label-arrow:before {content: \"▾\";}#sk-container-id-2 div.sk-estimator input.sk-toggleable__control:checked~label.sk-toggleable__label {background-color: #d4ebff;}#sk-container-id-2 div.sk-label input.sk-toggleable__control:checked~label.sk-toggleable__label {background-color: #d4ebff;}#sk-container-id-2 input.sk-hidden--visually {border: 0;clip: rect(1px 1px 1px 1px);clip: rect(1px, 1px, 1px, 1px);height: 1px;margin: -1px;overflow: hidden;padding: 0;position: absolute;width: 1px;}#sk-container-id-2 div.sk-estimator {font-family: monospace;background-color: #f0f8ff;border: 1px dotted black;border-radius: 0.25em;box-sizing: border-box;margin-bottom: 0.5em;}#sk-container-id-2 div.sk-estimator:hover {background-color: #d4ebff;}#sk-container-id-2 div.sk-parallel-item::after {content: \"\";width: 100%;border-bottom: 1px solid gray;flex-grow: 1;}#sk-container-id-2 div.sk-label:hover label.sk-toggleable__label {background-color: #d4ebff;}#sk-container-id-2 div.sk-serial::before {content: \"\";position: absolute;border-left: 1px solid gray;box-sizing: border-box;top: 0;bottom: 0;left: 50%;z-index: 0;}#sk-container-id-2 div.sk-serial {display: flex;flex-direction: column;align-items: center;background-color: white;padding-right: 0.2em;padding-left: 0.2em;position: relative;}#sk-container-id-2 div.sk-item {position: relative;z-index: 1;}#sk-container-id-2 div.sk-parallel {display: flex;align-items: stretch;justify-content: center;background-color: white;position: relative;}#sk-container-id-2 div.sk-item::before, #sk-container-id-2 div.sk-parallel-item::before {content: \"\";position: absolute;border-left: 1px solid gray;box-sizing: border-box;top: 0;bottom: 0;left: 50%;z-index: -1;}#sk-container-id-2 div.sk-parallel-item {display: flex;flex-direction: column;z-index: 1;position: relative;background-color: white;}#sk-container-id-2 div.sk-parallel-item:first-child::after {align-self: flex-end;width: 50%;}#sk-container-id-2 div.sk-parallel-item:last-child::after {align-self: flex-start;width: 50%;}#sk-container-id-2 div.sk-parallel-item:only-child::after {width: 0;}#sk-container-id-2 div.sk-dashed-wrapped {border: 1px dashed gray;margin: 0 0.4em 0.5em 0.4em;box-sizing: border-box;padding-bottom: 0.4em;background-color: white;}#sk-container-id-2 div.sk-label label {font-family: monospace;font-weight: bold;display: inline-block;line-height: 1.2em;}#sk-container-id-2 div.sk-label-container {text-align: center;}#sk-container-id-2 div.sk-container {/* jupyter's `normalize.less` sets `[hidden] { display: none; }` but bootstrap.min.css set `[hidden] { display: none !important; }` so we also need the `!important` here to be able to override the default hidden behavior on the sphinx rendered scikit-learn.org. See: https://github.com/scikit-learn/scikit-learn/issues/21755 */display: inline-block !important;position: relative;}#sk-container-id-2 div.sk-text-repr-fallback {display: none;}</style><div id=\"sk-container-id-2\" class=\"sk-top-container\"><div class=\"sk-text-repr-fallback\"><pre>KNeighborsClassifier()</pre><b>In a Jupyter environment, please rerun this cell to show the HTML representation or trust the notebook. <br />On GitHub, the HTML representation is unable to render, please try loading this page with nbviewer.org.</b></div><div class=\"sk-container\" hidden><div class=\"sk-item\"><div class=\"sk-estimator sk-toggleable\"><input class=\"sk-toggleable__control sk-hidden--visually\" id=\"sk-estimator-id-2\" type=\"checkbox\" checked><label for=\"sk-estimator-id-2\" class=\"sk-toggleable__label sk-toggleable__label-arrow\">KNeighborsClassifier</label><div class=\"sk-toggleable__content\"><pre>KNeighborsClassifier()</pre></div></div></div></div></div>"
      ],
      "text/plain": [
       "KNeighborsClassifier()"
      ]
     },
     "execution_count": 59,
     "metadata": {},
     "output_type": "execute_result"
    }
   ],
   "source": [
    "# Entrenamos\n",
    "\n",
    "clf2.fit(x_train,y_train)"
   ]
  },
  {
   "cell_type": "code",
   "execution_count": 60,
   "metadata": {},
   "outputs": [],
   "source": [
    "# Predecimos\n",
    "y_pred2 = clf2.predict(x_test)"
   ]
  },
  {
   "cell_type": "code",
   "execution_count": 61,
   "metadata": {},
   "outputs": [
    {
     "name": "stdout",
     "output_type": "stream",
     "text": [
      "El accuracy del modelo es:  0.562780487804878\n",
      "El recall del modelo es:  0.7222084318618293\n"
     ]
    }
   ],
   "source": [
    "# Evaluamos\n",
    "print(\"El accuracy del modelo es: \", accuracy_score(y_test,y_pred2))\n",
    "print(\"El recall del modelo es: \", recall_score(y_test,y_pred2))"
   ]
  },
  {
   "attachments": {},
   "cell_type": "markdown",
   "metadata": {},
   "source": [
    "### 3. ÁRBOL DE DECISIÓN"
   ]
  },
  {
   "cell_type": "code",
   "execution_count": 62,
   "metadata": {},
   "outputs": [
    {
     "data": {
      "text/html": [
       "<style>#sk-container-id-3 {color: black;background-color: white;}#sk-container-id-3 pre{padding: 0;}#sk-container-id-3 div.sk-toggleable {background-color: white;}#sk-container-id-3 label.sk-toggleable__label {cursor: pointer;display: block;width: 100%;margin-bottom: 0;padding: 0.3em;box-sizing: border-box;text-align: center;}#sk-container-id-3 label.sk-toggleable__label-arrow:before {content: \"▸\";float: left;margin-right: 0.25em;color: #696969;}#sk-container-id-3 label.sk-toggleable__label-arrow:hover:before {color: black;}#sk-container-id-3 div.sk-estimator:hover label.sk-toggleable__label-arrow:before {color: black;}#sk-container-id-3 div.sk-toggleable__content {max-height: 0;max-width: 0;overflow: hidden;text-align: left;background-color: #f0f8ff;}#sk-container-id-3 div.sk-toggleable__content pre {margin: 0.2em;color: black;border-radius: 0.25em;background-color: #f0f8ff;}#sk-container-id-3 input.sk-toggleable__control:checked~div.sk-toggleable__content {max-height: 200px;max-width: 100%;overflow: auto;}#sk-container-id-3 input.sk-toggleable__control:checked~label.sk-toggleable__label-arrow:before {content: \"▾\";}#sk-container-id-3 div.sk-estimator input.sk-toggleable__control:checked~label.sk-toggleable__label {background-color: #d4ebff;}#sk-container-id-3 div.sk-label input.sk-toggleable__control:checked~label.sk-toggleable__label {background-color: #d4ebff;}#sk-container-id-3 input.sk-hidden--visually {border: 0;clip: rect(1px 1px 1px 1px);clip: rect(1px, 1px, 1px, 1px);height: 1px;margin: -1px;overflow: hidden;padding: 0;position: absolute;width: 1px;}#sk-container-id-3 div.sk-estimator {font-family: monospace;background-color: #f0f8ff;border: 1px dotted black;border-radius: 0.25em;box-sizing: border-box;margin-bottom: 0.5em;}#sk-container-id-3 div.sk-estimator:hover {background-color: #d4ebff;}#sk-container-id-3 div.sk-parallel-item::after {content: \"\";width: 100%;border-bottom: 1px solid gray;flex-grow: 1;}#sk-container-id-3 div.sk-label:hover label.sk-toggleable__label {background-color: #d4ebff;}#sk-container-id-3 div.sk-serial::before {content: \"\";position: absolute;border-left: 1px solid gray;box-sizing: border-box;top: 0;bottom: 0;left: 50%;z-index: 0;}#sk-container-id-3 div.sk-serial {display: flex;flex-direction: column;align-items: center;background-color: white;padding-right: 0.2em;padding-left: 0.2em;position: relative;}#sk-container-id-3 div.sk-item {position: relative;z-index: 1;}#sk-container-id-3 div.sk-parallel {display: flex;align-items: stretch;justify-content: center;background-color: white;position: relative;}#sk-container-id-3 div.sk-item::before, #sk-container-id-3 div.sk-parallel-item::before {content: \"\";position: absolute;border-left: 1px solid gray;box-sizing: border-box;top: 0;bottom: 0;left: 50%;z-index: -1;}#sk-container-id-3 div.sk-parallel-item {display: flex;flex-direction: column;z-index: 1;position: relative;background-color: white;}#sk-container-id-3 div.sk-parallel-item:first-child::after {align-self: flex-end;width: 50%;}#sk-container-id-3 div.sk-parallel-item:last-child::after {align-self: flex-start;width: 50%;}#sk-container-id-3 div.sk-parallel-item:only-child::after {width: 0;}#sk-container-id-3 div.sk-dashed-wrapped {border: 1px dashed gray;margin: 0 0.4em 0.5em 0.4em;box-sizing: border-box;padding-bottom: 0.4em;background-color: white;}#sk-container-id-3 div.sk-label label {font-family: monospace;font-weight: bold;display: inline-block;line-height: 1.2em;}#sk-container-id-3 div.sk-label-container {text-align: center;}#sk-container-id-3 div.sk-container {/* jupyter's `normalize.less` sets `[hidden] { display: none; }` but bootstrap.min.css set `[hidden] { display: none !important; }` so we also need the `!important` here to be able to override the default hidden behavior on the sphinx rendered scikit-learn.org. See: https://github.com/scikit-learn/scikit-learn/issues/21755 */display: inline-block !important;position: relative;}#sk-container-id-3 div.sk-text-repr-fallback {display: none;}</style><div id=\"sk-container-id-3\" class=\"sk-top-container\"><div class=\"sk-text-repr-fallback\"><pre>DecisionTreeClassifier()</pre><b>In a Jupyter environment, please rerun this cell to show the HTML representation or trust the notebook. <br />On GitHub, the HTML representation is unable to render, please try loading this page with nbviewer.org.</b></div><div class=\"sk-container\" hidden><div class=\"sk-item\"><div class=\"sk-estimator sk-toggleable\"><input class=\"sk-toggleable__control sk-hidden--visually\" id=\"sk-estimator-id-3\" type=\"checkbox\" checked><label for=\"sk-estimator-id-3\" class=\"sk-toggleable__label sk-toggleable__label-arrow\">DecisionTreeClassifier</label><div class=\"sk-toggleable__content\"><pre>DecisionTreeClassifier()</pre></div></div></div></div></div>"
      ],
      "text/plain": [
       "DecisionTreeClassifier()"
      ]
     },
     "execution_count": 62,
     "metadata": {},
     "output_type": "execute_result"
    }
   ],
   "source": [
    "from sklearn.tree import DecisionTreeClassifier\n",
    "# Instanciamos el árbol\n",
    "tree0 = DecisionTreeClassifier(max_depth = None)\n",
    "tree0.fit(x_train, y_train)"
   ]
  },
  {
   "cell_type": "code",
   "execution_count": 63,
   "metadata": {},
   "outputs": [
    {
     "name": "stdout",
     "output_type": "stream",
     "text": [
      "El accuracy del modelo es:  0.7582113821138211\n",
      "El recall del modelo es:  0.8041362371477471\n"
     ]
    }
   ],
   "source": [
    "# Predecimos\n",
    "y0 = tree0.predict(x_test)\n",
    "# Evaluamos\n",
    "print(\"El accuracy del modelo es: \", accuracy_score(y_test,y0))\n",
    "print(\"El recall del modelo es: \", recall_score(y_test,y0))"
   ]
  },
  {
   "attachments": {},
   "cell_type": "markdown",
   "metadata": {},
   "source": [
    "### SELECCIÓN DEL MEJOR MODELO:\n",
    "\n",
    "El mejor modelo es generado con el árbol de decisión. Procedemos a generar el archivo \"pred\""
   ]
  },
  {
   "cell_type": "code",
   "execution_count": 64,
   "metadata": {},
   "outputs": [],
   "source": [
    "# Predecimos para la data_test\n",
    "y0test = tree0.predict(data_totalT)"
   ]
  },
  {
   "cell_type": "code",
   "execution_count": 65,
   "metadata": {},
   "outputs": [],
   "source": [
    "# Generamos el dataframe con los valores obtenidos\n",
    "y0test_csv=pd.DataFrame(list(y0test),columns=[\"pred\"])"
   ]
  },
  {
   "cell_type": "code",
   "execution_count": 66,
   "metadata": {},
   "outputs": [
    {
     "name": "stdout",
     "output_type": "stream",
     "text": [
      "<class 'pandas.core.frame.DataFrame'>\n",
      "RangeIndex: 90000 entries, 0 to 89999\n",
      "Data columns (total 1 columns):\n",
      " #   Column  Non-Null Count  Dtype\n",
      "---  ------  --------------  -----\n",
      " 0   pred    90000 non-null  int64\n",
      "dtypes: int64(1)\n",
      "memory usage: 703.2 KB\n"
     ]
    }
   ],
   "source": [
    "# Verificamos que posea los 90000 registros\n",
    "y0test_csv.info()"
   ]
  },
  {
   "cell_type": "code",
   "execution_count": 67,
   "metadata": {},
   "outputs": [],
   "source": [
    "# Creamos el archivo \"csv\"\n",
    "y0test_csv.to_csv(\"pred/rafael1294.csv\",index=False)"
   ]
  }
 ],
 "metadata": {
  "kernelspec": {
   "display_name": "Python 3",
   "language": "python",
   "name": "python3"
  },
  "language_info": {
   "codemirror_mode": {
    "name": "ipython",
    "version": 3
   },
   "file_extension": ".py",
   "mimetype": "text/x-python",
   "name": "python",
   "nbconvert_exporter": "python",
   "pygments_lexer": "ipython3",
   "version": "3.10.5"
  },
  "orig_nbformat": 4,
  "vscode": {
   "interpreter": {
    "hash": "5c0aa7e6415dbcf7e4c1e39a56e3474aa103db52234d7bc08498ee9b5c21aa17"
   }
  }
 },
 "nbformat": 4,
 "nbformat_minor": 2
}
